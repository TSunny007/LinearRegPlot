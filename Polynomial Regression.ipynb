{
 "cells": [
  {
   "cell_type": "code",
   "execution_count": 4,
   "metadata": {},
   "outputs": [],
   "source": [
    "import math\n",
    "import matplotlib as mpl\n",
    "\n",
    "mpl.use('PDF')\n",
    "\n",
    "import matplotlib.pyplot as plt\n",
    "import pandas as pd\n",
    "import numpy as np\n",
    "import scipy as sp\n",
    "from numpy import linalg as LA\n",
    "from numpy import polyval\n",
    "from scipy import polyfit\n",
    "import random"
   ]
  },
  {
   "cell_type": "code",
   "execution_count": 5,
   "metadata": {},
   "outputs": [],
   "source": [
    "# This plots our results appropriately and saves it as CVpolyReg-<degree>.pdf \n",
    "def plot_poly(x,y,xE,yE,p): \n",
    "    plt.scatter(x,y, s=30, c=\"blue\") # training data\n",
    "    plt.scatter(xE,yE, s=20, c=\"green\") # testing data\n",
    "    plt.axis([0,1.5,0,3])\n",
    "    s=sp.linspace(0,10,101)\n",
    "    coefs=sp.polyfit(x,y,p)\n",
    "    ffit = np.poly1d(coefs)\n",
    "    plt.plot(s,ffit(s),'r-',linewidth=2.0)\n",
    "    resid = ffit(xE)\n",
    "    RMSE = LA.norm(resid-yE)\n",
    "    SSE= RMSE * RMSE/ len(xE) # Dividing by number of test data points to get the average SSE\n",
    "    title = \"degree %s fit | SSE %0.3f\" % (p, SSE) \n",
    "    plt.title(title)\n",
    "    file = \"CVpolyReg-%s.png\" % p\n",
    "    plt.savefig(file, bbox_inches='tight') \n",
    "    plt.clf()\n",
    "    plt.cla()"
   ]
  },
  {
   "cell_type": "code",
   "execution_count": 6,
   "metadata": {},
   "outputs": [],
   "source": [
    "df = pd.read_csv('D3.csv', names = ['x0','x1','x2','y'])\n",
    "# the first column\n",
    "xColumn = df['x0']\n",
    "# the fourth column\n",
    "yColumn = df['y']\n",
    "\n",
    "xTrain = []\n",
    "yTrain = []\n",
    "xTest = []\n",
    "yTest = []\n",
    "\n",
    "TEST_SIZE = 10 #the size of our test size\n",
    "\n",
    "rands = set()"
   ]
  },
  {
   "cell_type": "code",
   "execution_count": 7,
   "metadata": {},
   "outputs": [],
   "source": [
    "# our testing data consists of 10 points (~10% of data provided)\n",
    "while len(rands) < TEST_SIZE:\n",
    "    newRand = random.randint(0,98)\n",
    "    if newRand not in rands:\n",
    "        rands.add(newRand)\n",
    "randsCopy = rands.copy()\n",
    "for x in range(0, 10, 1):\n",
    "    d = rands.pop()\n",
    "    xTest.append(xColumn[d])\n",
    "    yTest.append(yColumn[d])\n",
    "for x in range(0, len(xColumn), 1):\n",
    "    if x not in randsCopy:\n",
    "        xTrain.append(xColumn[x])\n",
    "        yTrain.append(yColumn[x])\n",
    "    # after this we will have two disjoint datasets \n",
    "    # xTest and yTest go together while xTrain and yTrain go together\n",
    "    # we will be going through five degrees\n",
    "p_vals = [1,2,3,4,5]\n",
    "for i in p_vals:\n",
    "    plot_poly(np.asarray(xTrain),np.asarray(yTrain), \n",
    "    np.asarray(xTest), np.asarray(yTest), i)"
   ]
  },
  {
   "cell_type": "code",
   "execution_count": 2,
   "metadata": {},
   "outputs": [
    {
     "data": {
      "text/html": [
       "<img src=https://github.com/TarunSunkaraneni/LinearRegPlot/blob/master/CVpolyReg-1.png?raw=true width=700 height=540></iframe>"
      ],
      "text/plain": [
       "<IPython.core.display.HTML object>"
      ]
     },
     "execution_count": 2,
     "metadata": {},
     "output_type": "execute_result"
    }
   ],
   "source": [
    "from IPython.core.display import HTML \n",
    "HTML('<img src=https://github.com/TarunSunkaraneni/LinearRegPlot/blob/master/CVpolyReg-1.png?raw=true width=700 height=540></iframe>')"
   ]
  },
  {
   "cell_type": "code",
   "execution_count": 6,
   "metadata": {},
   "outputs": [
    {
     "data": {
      "text/html": [
       "<img src=https://github.com/TarunSunkaraneni/LinearRegPlot/blob/master/CVpolyReg-2.png?raw=true width=700 height=540></iframe>"
      ],
      "text/plain": [
       "<IPython.core.display.HTML object>"
      ]
     },
     "execution_count": 6,
     "metadata": {},
     "output_type": "execute_result"
    }
   ],
   "source": [
    " HTML('<img src=https://github.com/TarunSunkaraneni/LinearRegPlot/blob/master/CVpolyReg-2.png?raw=true width=700 height=540></iframe>')"
   ]
  },
  {
   "cell_type": "code",
   "execution_count": 7,
   "metadata": {},
   "outputs": [
    {
     "data": {
      "text/html": [
       "<img src=https://github.com/TarunSunkaraneni/LinearRegPlot/blob/master/CVpolyReg-3.png?raw=true width=700 height=540></iframe>"
      ],
      "text/plain": [
       "<IPython.core.display.HTML object>"
      ]
     },
     "execution_count": 7,
     "metadata": {},
     "output_type": "execute_result"
    }
   ],
   "source": [
    "HTML('<img src=https://github.com/TarunSunkaraneni/LinearRegPlot/blob/master/CVpolyReg-3.png?raw=true width=700 height=540></iframe>')"
   ]
  },
  {
   "cell_type": "code",
   "execution_count": 8,
   "metadata": {},
   "outputs": [
    {
     "data": {
      "text/html": [
       "<img src=https://github.com/TarunSunkaraneni/LinearRegPlot/blob/master/CVpolyReg-3.png?raw=true width=700 height=540></iframe>"
      ],
      "text/plain": [
       "<IPython.core.display.HTML object>"
      ]
     },
     "execution_count": 8,
     "metadata": {},
     "output_type": "execute_result"
    }
   ],
   "source": [
    "HTML('<img src=https://github.com/TarunSunkaraneni/LinearRegPlot/blob/master/CVpolyReg-3.png?raw=true width=700 height=540></iframe>')"
   ]
  },
  {
   "cell_type": "code",
   "execution_count": 9,
   "metadata": {},
   "outputs": [
    {
     "data": {
      "text/html": [
       "<img src=https://github.com/TarunSunkaraneni/LinearRegPlot/blob/master/CVpolyReg-4.png?raw=true width=700 height=540></iframe>"
      ],
      "text/plain": [
       "<IPython.core.display.HTML object>"
      ]
     },
     "execution_count": 9,
     "metadata": {},
     "output_type": "execute_result"
    }
   ],
   "source": [
    "HTML('<img src=https://github.com/TarunSunkaraneni/LinearRegPlot/blob/master/CVpolyReg-4.png?raw=true width=700 height=540></iframe>')"
   ]
  },
  {
   "cell_type": "code",
   "execution_count": 10,
   "metadata": {},
   "outputs": [
    {
     "data": {
      "text/html": [
       "<image src=https://github.com/TarunSunkaraneni/LinearRegPlot/blob/master/CVpolyReg-5.png?raw=true width=700 height=540></iframe>"
      ],
      "text/plain": [
       "<IPython.core.display.HTML object>"
      ]
     },
     "execution_count": 10,
     "metadata": {},
     "output_type": "execute_result"
    }
   ],
   "source": [
    "HTML('<img src=https://github.com/TarunSunkaraneni/LinearRegPlot/blob/master/CVpolyReg-5.png?raw=true width=700 height=540></iframe>')"
   ]
  }
 ],
 "metadata": {
  "kernelspec": {
   "display_name": "Python 3",
   "language": "python",
   "name": "python3"
  },
  "language_info": {
   "codemirror_mode": {
    "name": "ipython",
    "version": 3
   },
   "file_extension": ".py",
   "mimetype": "text/x-python",
   "name": "python",
   "nbconvert_exporter": "python",
   "pygments_lexer": "ipython3",
   "version": "3.6.3"
  }
 },
 "nbformat": 4,
 "nbformat_minor": 2
}
